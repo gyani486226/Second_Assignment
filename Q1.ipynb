{
 "cells": [
  {
   "cell_type": "raw",
   "id": "f162be3e-2de7-400c-b62c-00cebd39ab2c",
   "metadata": {},
   "source": [
    "Q1 Discuss string slicing and provide examples."
   ]
  },
  {
   "cell_type": "raw",
   "id": "8d4da7e0-ac85-4e19-8503-4fa105f625e3",
   "metadata": {},
   "source": [
    "String = string is a sequence of character which are made of one or more individual characters, where character could be a letter, digit, whitespace or any symbol.\n",
    "\n",
    "String slicing =  A substring of the string is called a slicing.\n",
    "\n",
    "1. We take subset of a string by using [] operator are known as slicing operator.\n",
    "\n",
    "2. In the [] operator we write the index of  string for slicing"
   ]
  },
  {
   "cell_type": "code",
   "execution_count": 2,
   "id": "fc2c9e4f-815e-4dd1-8a53-6d814cf426f3",
   "metadata": {},
   "outputs": [
    {
     "data": {
      "text/plain": [
       "str"
      ]
     },
     "execution_count": 2,
     "metadata": {},
     "output_type": "execute_result"
    }
   ],
   "source": [
    "name = \"Sanjay\"\n",
    "type(name)"
   ]
  },
  {
   "cell_type": "code",
   "execution_count": 7,
   "id": "900afddb-b154-4d00-89ee-355dfb5f2bac",
   "metadata": {},
   "outputs": [
    {
     "ename": "TypeError",
     "evalue": "'str' object does not support item assignment",
     "output_type": "error",
     "traceback": [
      "\u001b[1;31m---------------------------------------------------------------------------\u001b[0m",
      "\u001b[1;31mTypeError\u001b[0m                                 Traceback (most recent call last)",
      "Cell \u001b[1;32mIn[7], line 1\u001b[0m\n\u001b[1;32m----> 1\u001b[0m \u001b[43mname\u001b[49m\u001b[43m[\u001b[49m\u001b[38;5;241;43m0\u001b[39;49m\u001b[43m]\u001b[49m\u001b[38;5;241m=\u001b[39m\u001b[38;5;124m\"\u001b[39m\u001b[38;5;124mvijay\u001b[39m\u001b[38;5;124m\"\u001b[39m\n",
      "\u001b[1;31mTypeError\u001b[0m: 'str' object does not support item assignment"
     ]
    }
   ],
   "source": [
    "name[0]=\"vijay\" # Strings are immutable"
   ]
  },
  {
   "cell_type": "code",
   "execution_count": 2,
   "id": "2c119c1d-a457-4bdc-856b-c83e06156021",
   "metadata": {},
   "outputs": [
    {
     "data": {
      "text/plain": [
       "'S'"
      ]
     },
     "execution_count": 2,
     "metadata": {},
     "output_type": "execute_result"
    }
   ],
   "source": [
    "#in the variable name (S) is in 0th index and (a) is in the 1st index likewise (y) is in the 5th index.\n",
    "# we also done slicing in reverse order like (y) is in the -1 index and (a) is in the -2 index\n",
    "name[0]"
   ]
  },
  {
   "cell_type": "code",
   "execution_count": 3,
   "id": "a643b1e6-53fb-42cf-997b-29b58b65ece7",
   "metadata": {},
   "outputs": [
    {
     "data": {
      "text/plain": [
       "'a'"
      ]
     },
     "execution_count": 3,
     "metadata": {},
     "output_type": "execute_result"
    }
   ],
   "source": [
    "name[1]"
   ]
  },
  {
   "cell_type": "code",
   "execution_count": 4,
   "id": "15e2b0f8-84ed-4aee-9ef7-aa24bfed0265",
   "metadata": {},
   "outputs": [
    {
     "data": {
      "text/plain": [
       "'y'"
      ]
     },
     "execution_count": 4,
     "metadata": {},
     "output_type": "execute_result"
    }
   ],
   "source": [
    "name[-1]"
   ]
  },
  {
   "cell_type": "code",
   "execution_count": 10,
   "id": "7a9de71a-7b48-4fd9-a788-360b2bbdeadc",
   "metadata": {},
   "outputs": [
    {
     "name": "stdout",
     "output_type": "stream",
     "text": [
      "index of  S 0\n",
      "index of  a 1\n",
      "index of  n 2\n",
      "index of  j 3\n",
      "index of  a 4\n",
      "index of  y 5\n"
     ]
    }
   ],
   "source": [
    "count = 0\n",
    "for i in name:\n",
    "    print(\"index of \", i, count)\n",
    "    count+=1"
   ]
  },
  {
   "cell_type": "raw",
   "id": "7e4787b5-1637-4ec6-b85d-439552434bb2",
   "metadata": {},
   "source": [
    "# In the operator first we give the index of start_index , second is the end_index and the third is \n",
    "the step of the character [star:end:step]\n",
    "[a,b]"
   ]
  },
  {
   "cell_type": "code",
   "execution_count": 11,
   "id": "bbad91b3-8102-42a9-8c79-485cb2f5869f",
   "metadata": {},
   "outputs": [
    {
     "data": {
      "text/plain": [
       "'ajy'"
      ]
     },
     "execution_count": 11,
     "metadata": {},
     "output_type": "execute_result"
    }
   ],
   "source": [
    "name[1:7:2] "
   ]
  },
  {
   "cell_type": "code",
   "execution_count": 12,
   "id": "19b09fb6-5cb6-485d-b10e-8df38708044f",
   "metadata": {},
   "outputs": [
    {
     "data": {
      "text/plain": [
       "6"
      ]
     },
     "execution_count": 12,
     "metadata": {},
     "output_type": "execute_result"
    }
   ],
   "source": [
    "len(name)"
   ]
  },
  {
   "cell_type": "code",
   "execution_count": 13,
   "id": "59abd66d-423d-4abd-8923-dfe4c3068501",
   "metadata": {},
   "outputs": [
    {
     "data": {
      "text/plain": [
       "'Sanj'"
      ]
     },
     "execution_count": 13,
     "metadata": {},
     "output_type": "execute_result"
    }
   ],
   "source": [
    "name[0:4] # 4 is exclusive [a, b]>> it will give result till b-1 index "
   ]
  },
  {
   "cell_type": "code",
   "execution_count": 14,
   "id": "9ae9c1c4-832f-4c76-a472-b81cd5d6f941",
   "metadata": {},
   "outputs": [
    {
     "data": {
      "text/plain": [
       "'Sanjay'"
      ]
     },
     "execution_count": 14,
     "metadata": {},
     "output_type": "execute_result"
    }
   ],
   "source": [
    "name[0:] # if we not specify the end index it takes automatiaclly up to end character"
   ]
  },
  {
   "cell_type": "code",
   "execution_count": null,
   "id": "5564704b-d064-4f60-8177-29aecb9bb5b7",
   "metadata": {},
   "outputs": [],
   "source": [
    "name = \"Sanjay\""
   ]
  },
  {
   "cell_type": "code",
   "execution_count": 19,
   "id": "ca552290-fba7-4fc9-a56a-13523ba2524b",
   "metadata": {},
   "outputs": [
    {
     "data": {
      "text/plain": [
       "'Sanj'"
      ]
     },
     "execution_count": 19,
     "metadata": {},
     "output_type": "execute_result"
    }
   ],
   "source": [
    "name[:-2] # give except last two character"
   ]
  },
  {
   "cell_type": "code",
   "execution_count": 20,
   "id": "9e13a496-a20a-43c0-95e4-c1633c101c2c",
   "metadata": {},
   "outputs": [
    {
     "data": {
      "text/plain": [
       "'ay'"
      ]
     },
     "execution_count": 20,
     "metadata": {},
     "output_type": "execute_result"
    }
   ],
   "source": [
    "name[-2:] # only give last two character"
   ]
  },
  {
   "cell_type": "code",
   "execution_count": 23,
   "id": "2a45b752-8b46-406d-9158-f240c60b28d9",
   "metadata": {},
   "outputs": [
    {
     "data": {
      "text/plain": [
       "'p'"
      ]
     },
     "execution_count": 23,
     "metadata": {},
     "output_type": "execute_result"
    }
   ],
   "source": [
    "new_str = \"python\"\n",
    "new_str[0]"
   ]
  },
  {
   "cell_type": "code",
   "execution_count": 29,
   "id": "f0339d2c-95cd-4c93-b5c0-48a2e6808899",
   "metadata": {},
   "outputs": [
    {
     "data": {
      "text/plain": [
       "'python'"
      ]
     },
     "execution_count": 29,
     "metadata": {},
     "output_type": "execute_result"
    }
   ],
   "source": [
    "new_str[0:6] # by default step is one"
   ]
  },
  {
   "cell_type": "code",
   "execution_count": 22,
   "id": "1b8540c0-32f0-48d0-a4bb-5aeec141a5cc",
   "metadata": {},
   "outputs": [
    {
     "data": {
      "text/plain": [
       "'pto'"
      ]
     },
     "execution_count": 22,
     "metadata": {},
     "output_type": "execute_result"
    }
   ],
   "source": [
    "new_str[::2] # we provide the step of index [start:end:step]"
   ]
  },
  {
   "cell_type": "code",
   "execution_count": 31,
   "id": "9a6db9d3-eedd-4499-9c79-5ed978a61805",
   "metadata": {},
   "outputs": [
    {
     "data": {
      "text/plain": [
       "'python'"
      ]
     },
     "execution_count": 31,
     "metadata": {},
     "output_type": "execute_result"
    }
   ],
   "source": [
    "new_str[:6] "
   ]
  },
  {
   "cell_type": "code",
   "execution_count": 32,
   "id": "53ed6831-ea0c-4d9d-8557-c898e00bde3a",
   "metadata": {},
   "outputs": [
    {
     "data": {
      "text/plain": [
       "'python'"
      ]
     },
     "execution_count": 32,
     "metadata": {},
     "output_type": "execute_result"
    }
   ],
   "source": [
    "new_str[:]"
   ]
  },
  {
   "cell_type": "code",
   "execution_count": 33,
   "id": "dced33fc-46dd-4bc3-8392-52ee47616f42",
   "metadata": {},
   "outputs": [
    {
     "data": {
      "text/plain": [
       "'pyth'"
      ]
     },
     "execution_count": 33,
     "metadata": {},
     "output_type": "execute_result"
    }
   ],
   "source": [
    "new_str[:-2]"
   ]
  },
  {
   "cell_type": "code",
   "execution_count": 34,
   "id": "905fb104-addf-4f55-8944-e4e3959a52d3",
   "metadata": {},
   "outputs": [
    {
     "data": {
      "text/plain": [
       "'o'"
      ]
     },
     "execution_count": 34,
     "metadata": {},
     "output_type": "execute_result"
    }
   ],
   "source": [
    "new_str[-2]"
   ]
  },
  {
   "cell_type": "code",
   "execution_count": 35,
   "id": "efc8e3ec-2dd3-4665-91a6-93419d6769cc",
   "metadata": {},
   "outputs": [
    {
     "data": {
      "text/plain": [
       "'yth'"
      ]
     },
     "execution_count": 35,
     "metadata": {},
     "output_type": "execute_result"
    }
   ],
   "source": [
    "new_str[-5:-2]"
   ]
  },
  {
   "cell_type": "code",
   "execution_count": 36,
   "id": "2da1a442-6cb4-4933-9a13-6628c15a581e",
   "metadata": {},
   "outputs": [
    {
     "data": {
      "text/plain": [
       "'nhy'"
      ]
     },
     "execution_count": 36,
     "metadata": {},
     "output_type": "execute_result"
    }
   ],
   "source": [
    "new_str[::-2]"
   ]
  },
  {
   "cell_type": "code",
   "execution_count": null,
   "id": "d364cc65-b737-4519-ae63-e5cd9d3d6bd0",
   "metadata": {},
   "outputs": [],
   "source": []
  }
 ],
 "metadata": {
  "kernelspec": {
   "display_name": "Python 3 (ipykernel)",
   "language": "python",
   "name": "python3"
  },
  "language_info": {
   "codemirror_mode": {
    "name": "ipython",
    "version": 3
   },
   "file_extension": ".py",
   "mimetype": "text/x-python",
   "name": "python",
   "nbconvert_exporter": "python",
   "pygments_lexer": "ipython3",
   "version": "3.12.4"
  }
 },
 "nbformat": 4,
 "nbformat_minor": 5
}
