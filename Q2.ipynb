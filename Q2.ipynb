{
 "cells": [
  {
   "cell_type": "raw",
   "id": "02afeccf-e780-4049-8f72-02c2d1560591",
   "metadata": {},
   "source": [
    "Q2 Explain the key features of lists in Python.\n",
    "1. The key feature of a list is that it can have elements belong to different data types like number, string, float , boolean, complex etc.\n",
    "2. String is mutable means you can add or remove anything in list,\n",
    "3. List also contain duplicate values,\n",
    "4. List is like a shopping bag you add, anything.\n",
    "5. With the help of indexing method we add anything in the list,\n",
    "6. Slicing can be done with the help of indexing and inbuilt function.\n",
    "7. In strings we can add or remove strings as needed with the help of inbuilt method"
   ]
  }
 ],
 "metadata": {
  "kernelspec": {
   "display_name": "Python 3 (ipykernel)",
   "language": "python",
   "name": "python3"
  },
  "language_info": {
   "codemirror_mode": {
    "name": "ipython",
    "version": 3
   },
   "file_extension": ".py",
   "mimetype": "text/x-python",
   "name": "python",
   "nbconvert_exporter": "python",
   "pygments_lexer": "ipython3",
   "version": "3.12.4"
  }
 },
 "nbformat": 4,
 "nbformat_minor": 5
}
