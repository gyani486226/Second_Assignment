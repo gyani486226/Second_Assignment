{
 "cells": [
  {
   "cell_type": "raw",
   "id": "48f81300-6db3-423a-90ed-b2ceee084a59",
   "metadata": {},
   "source": [
    "Q3. Describe how to access, modify, and delete elements in a list with examples"
   ]
  },
  {
   "cell_type": "raw",
   "id": "a0468f87-e64c-4123-afae-deed46fceeae",
   "metadata": {},
   "source": [
    "1. string can be accesed with the help of index"
   ]
  },
  {
   "cell_type": "code",
   "execution_count": 2,
   "id": "d60706f3-29ef-4fa9-a530-9598f0523e10",
   "metadata": {},
   "outputs": [],
   "source": [
    "library = [\"Hindi\" ,\"English\", \"Mathematics\", \"Geography\", \"History\", \"EVS\", \"Sanskrit\"]"
   ]
  },
  {
   "cell_type": "code",
   "execution_count": 3,
   "id": "f024ba59-6502-43a1-8be7-d89306898273",
   "metadata": {},
   "outputs": [
    {
     "data": {
      "text/plain": [
       "['Hindi', 'English', 'Mathematics', 'Geography', 'History', 'EVS', 'Sanskrit']"
      ]
     },
     "execution_count": 3,
     "metadata": {},
     "output_type": "execute_result"
    }
   ],
   "source": [
    "library"
   ]
  },
  {
   "cell_type": "code",
   "execution_count": 4,
   "id": "04f8afdf-11f5-4c04-a700-3e1d4b8415a8",
   "metadata": {},
   "outputs": [
    {
     "name": "stdout",
     "output_type": "stream",
     "text": [
      "['Hindi', 'English', 'Mathematics', 'Geography', 'History', 'EVS', 'Sanskrit']\n"
     ]
    }
   ],
   "source": [
    "print(library)"
   ]
  },
  {
   "cell_type": "code",
   "execution_count": 5,
   "id": "ecb42b1d-cefd-4f70-98c9-3d0aa855ce00",
   "metadata": {},
   "outputs": [
    {
     "data": {
      "text/plain": [
       "'Hindi'"
      ]
     },
     "execution_count": 5,
     "metadata": {},
     "output_type": "execute_result"
    }
   ],
   "source": [
    "library[0]"
   ]
  },
  {
   "cell_type": "code",
   "execution_count": 6,
   "id": "0978966e-2bc6-423b-9587-2721b96e3c98",
   "metadata": {},
   "outputs": [
    {
     "data": {
      "text/plain": [
       "'Geography'"
      ]
     },
     "execution_count": 6,
     "metadata": {},
     "output_type": "execute_result"
    }
   ],
   "source": [
    "library[3]"
   ]
  },
  {
   "cell_type": "code",
   "execution_count": 7,
   "id": "042d2242-9244-4aea-9338-e8fca9c2fe66",
   "metadata": {},
   "outputs": [
    {
     "data": {
      "text/plain": [
       "['English', 'Mathematics']"
      ]
     },
     "execution_count": 7,
     "metadata": {},
     "output_type": "execute_result"
    }
   ],
   "source": [
    "library[1:3]"
   ]
  },
  {
   "cell_type": "code",
   "execution_count": 8,
   "id": "7e3a9fe7-66a1-4133-9392-2382b49fa29e",
   "metadata": {},
   "outputs": [
    {
     "data": {
      "text/plain": [
       "['Hindi', 'Mathematics', 'History', 'Sanskrit']"
      ]
     },
     "execution_count": 8,
     "metadata": {},
     "output_type": "execute_result"
    }
   ],
   "source": [
    "library[0:7:2]"
   ]
  },
  {
   "cell_type": "code",
   "execution_count": 14,
   "id": "ffb88e83-5669-4ea1-aa47-325c3142a99c",
   "metadata": {},
   "outputs": [
    {
     "data": {
      "text/plain": [
       "'Sanskrit'"
      ]
     },
     "execution_count": 14,
     "metadata": {},
     "output_type": "execute_result"
    }
   ],
   "source": [
    "library[-1]"
   ]
  },
  {
   "cell_type": "raw",
   "id": "ef58389e-64bc-46ea-9380-788ece4ca2c9",
   "metadata": {},
   "source": [
    "2. Modify>> we can add anything in the list with the help of indexing"
   ]
  },
  {
   "cell_type": "code",
   "execution_count": 10,
   "id": "dc832284-fdb8-478e-8e82-e27032ab8652",
   "metadata": {},
   "outputs": [],
   "source": [
    "library[1]=\"GK\""
   ]
  },
  {
   "cell_type": "code",
   "execution_count": 11,
   "id": "1cce07ac-aca2-496d-bda2-1174a30b7678",
   "metadata": {},
   "outputs": [
    {
     "data": {
      "text/plain": [
       "['Hindi', 'GK', 'Mathematics', 'Geography', 'History', 'EVS', 'Sanskrit']"
      ]
     },
     "execution_count": 11,
     "metadata": {},
     "output_type": "execute_result"
    }
   ],
   "source": [
    "library"
   ]
  },
  {
   "cell_type": "raw",
   "id": "e69713e7-bf18-4c83-bd03-f3a5dcdda553",
   "metadata": {},
   "source": [
    "3. modify>> Also add with the help of append >> add any thing in the end"
   ]
  },
  {
   "cell_type": "code",
   "execution_count": 16,
   "id": "db7c0af4-083a-4633-958a-d39f28da1cf9",
   "metadata": {},
   "outputs": [
    {
     "name": "stdout",
     "output_type": "stream",
     "text": [
      "['Hindi', 'GK', 'Mathematics', 'Geography', 'History', 'EVS', 'Sanskrit', 'Strength of materials', 'Strength of materials']\n"
     ]
    }
   ],
   "source": [
    "library.append(\"Strength of materials\")\n",
    "print(library)"
   ]
  },
  {
   "cell_type": "code",
   "execution_count": 61,
   "id": "332f31be-daa7-4a92-b845-d19badf4af1a",
   "metadata": {},
   "outputs": [
    {
     "name": "stdout",
     "output_type": "stream",
     "text": [
      "['perfume', 'beauty product', 'medicines', 'Home remedies', 'clothes']\n"
     ]
    }
   ],
   "source": [
    "shopping_list = [] \n",
    "shopping_list.append(\"perfume\")\n",
    "shopping_list.append(\"beauty product\")\n",
    "shopping_list.append(\"medicines\")\n",
    "shopping_list.append(\"Home remedies\")\n",
    "shopping_list.append(\"clothes\")\n",
    "print(shopping_list)"
   ]
  },
  {
   "cell_type": "code",
   "execution_count": 63,
   "id": "b325316a-b23d-41e4-8b9b-2d7dc6a723cd",
   "metadata": {},
   "outputs": [],
   "source": [
    "shopping_list.append(\"anything you want\")"
   ]
  },
  {
   "cell_type": "code",
   "execution_count": 65,
   "id": "1fb3c715-6f81-4521-9e1f-7c30acece679",
   "metadata": {},
   "outputs": [
    {
     "name": "stdout",
     "output_type": "stream",
     "text": [
      "['perfume', 'beauty product', 'medicines', 'Home remedies', 'clothes', 'anything you want']\n"
     ]
    }
   ],
   "source": [
    "print(shopping_list)"
   ]
  },
  {
   "cell_type": "raw",
   "id": "3a147166-7fff-4c00-8624-7edfeb72e572",
   "metadata": {},
   "source": [
    "4. Insertin means anything add in the given index"
   ]
  },
  {
   "cell_type": "code",
   "execution_count": 67,
   "id": "9f18336e-2b6a-4bb4-bf4e-0360f1af66b9",
   "metadata": {},
   "outputs": [],
   "source": [
    "# we want to add books in 0th index\n",
    "shopping_list.insert(0,\"books\")"
   ]
  },
  {
   "cell_type": "code",
   "execution_count": 69,
   "id": "d0928a8f-e113-45be-84fe-9d5c5da77a4a",
   "metadata": {},
   "outputs": [
    {
     "name": "stdout",
     "output_type": "stream",
     "text": [
      "['books', 'perfume', 'beauty product', 'medicines', 'Home remedies', 'clothes', 'anything you want']\n"
     ]
    }
   ],
   "source": [
    "print(shopping_list) # books are add in the 0th index"
   ]
  },
  {
   "cell_type": "raw",
   "id": "7f320148-01f4-43a2-9497-b03e5146aae3",
   "metadata": {},
   "source": [
    "5. modify >>add one bag item to another bag and vice versa "
   ]
  },
  {
   "cell_type": "code",
   "execution_count": 71,
   "id": "b2bf7418-866d-4793-9ffa-b9ea338b3547",
   "metadata": {},
   "outputs": [],
   "source": [
    "sagar_bag = [\"onion\", \"brinjal\", \"raddish\", \"tomato\",\"potato\",\"cauliflower\"]\n",
    "sahil_bag = [\"cauliflower\", \"cabbage\", \"spinach\", \"ladyfinger\", \"bottle gourd\"] # but sahil dont want to go market\n",
    "sagar_bag.extend(sahil_bag)"
   ]
  },
  {
   "cell_type": "code",
   "execution_count": 73,
   "id": "66389592-ddd0-44fa-9a10-6a5aa40655a8",
   "metadata": {},
   "outputs": [
    {
     "name": "stdout",
     "output_type": "stream",
     "text": [
      "['onion', 'brinjal', 'raddish', 'tomato', 'potato', 'cauliflower', 'cauliflower', 'cabbage', 'spinach', 'ladyfinger', 'bottle gourd']\n"
     ]
    }
   ],
   "source": [
    "print(sagar_bag)"
   ]
  },
  {
   "cell_type": "code",
   "execution_count": 75,
   "id": "a45fee8c-7b98-4d87-a502-e59977faeb0b",
   "metadata": {},
   "outputs": [
    {
     "name": "stdout",
     "output_type": "stream",
     "text": [
      "['cauliflower', 'cabbage', 'spinach', 'ladyfinger', 'bottle gourd']\n"
     ]
    }
   ],
   "source": [
    "print(sahil_bag)"
   ]
  },
  {
   "cell_type": "code",
   "execution_count": 77,
   "id": "93e1fb7e-8ee8-4bfb-8298-5f2aed2d3b3d",
   "metadata": {},
   "outputs": [
    {
     "name": "stdout",
     "output_type": "stream",
     "text": [
      "['cauliflower', 'cabbage', 'spinach', 'ladyfinger', 'bottle gourd', 'clothes', 'deo', 'paint']\n"
     ]
    }
   ],
   "source": [
    "# also do with the help of cocatination\n",
    "chhotu_bag=[\"clothes\",\"deo\",\"paint\"]\n",
    "print(sahil_bag+chhotu_bag)"
   ]
  },
  {
   "cell_type": "raw",
   "id": "f521c61c-aaa5-4b60-af75-ab45a03d7a69",
   "metadata": {},
   "source": [
    "List can be modify with the help of Deep copy and shallow copy\n",
    "1.shallow copy = In shallow copy the first list assigns the same value as the second list.\n",
    "- if we change the value of first list then also will change the value of second list"
   ]
  },
  {
   "cell_type": "code",
   "execution_count": 79,
   "id": "ece7bed1-472a-4f0d-90f0-43c57851a3b7",
   "metadata": {},
   "outputs": [
    {
     "data": {
      "text/plain": [
       "['books',\n",
       " 'perfume',\n",
       " 'beauty product',\n",
       " 'medicines',\n",
       " 'Home remedies',\n",
       " 'clothes',\n",
       " 'anything you want']"
      ]
     },
     "execution_count": 79,
     "metadata": {},
     "output_type": "execute_result"
    }
   ],
   "source": [
    "shopping_list"
   ]
  },
  {
   "cell_type": "code",
   "execution_count": 81,
   "id": "03d8064c-3667-4b12-ba7b-eb9b3f443945",
   "metadata": {},
   "outputs": [
    {
     "data": {
      "text/plain": [
       "['A', 'B']"
      ]
     },
     "execution_count": 81,
     "metadata": {},
     "output_type": "execute_result"
    }
   ],
   "source": [
    "a = [\"A\",\"B\"] # first the list of a is [\"A\",\"B\"]\n",
    "a"
   ]
  },
  {
   "cell_type": "code",
   "execution_count": 83,
   "id": "cb6ef508-3289-4ea5-86d2-d169be4dccd0",
   "metadata": {},
   "outputs": [],
   "source": [
    "a = shopping_list # shallow copy"
   ]
  },
  {
   "cell_type": "code",
   "execution_count": 85,
   "id": "2b9cd3b2-bdb8-40a4-ad23-ce93ebde7533",
   "metadata": {},
   "outputs": [
    {
     "name": "stdout",
     "output_type": "stream",
     "text": [
      "['books', 'perfume', 'beauty product', 'medicines', 'Home remedies', 'clothes', 'anything you want']\n"
     ]
    }
   ],
   "source": [
    "print(a)"
   ]
  },
  {
   "cell_type": "code",
   "execution_count": 87,
   "id": "4d6a61cc-fbaa-40af-9c34-49e44ffdab51",
   "metadata": {},
   "outputs": [
    {
     "data": {
      "text/plain": [
       "['books',\n",
       " 'perfume',\n",
       " 'beauty product',\n",
       " 'medicines',\n",
       " 'Home remedies',\n",
       " 'clothes',\n",
       " 'anything you want']"
      ]
     },
     "execution_count": 87,
     "metadata": {},
     "output_type": "execute_result"
    }
   ],
   "source": [
    "shopping_list"
   ]
  },
  {
   "cell_type": "code",
   "execution_count": 89,
   "id": "6f46c1a0-6e21-4a59-bfdd-965ac215130e",
   "metadata": {},
   "outputs": [
    {
     "data": {
      "text/plain": [
       "'books'"
      ]
     },
     "execution_count": 89,
     "metadata": {},
     "output_type": "execute_result"
    }
   ],
   "source": [
    "a[0]"
   ]
  },
  {
   "cell_type": "code",
   "execution_count": 91,
   "id": "1975fe9d-a8cf-4d4d-b613-23fafa4a2b34",
   "metadata": {},
   "outputs": [
    {
     "data": {
      "text/plain": [
       "'books'"
      ]
     },
     "execution_count": 91,
     "metadata": {},
     "output_type": "execute_result"
    }
   ],
   "source": [
    "shopping_list[0]"
   ]
  },
  {
   "cell_type": "code",
   "execution_count": 93,
   "id": "6e962b77-73b9-4c69-999f-84a383db6eb5",
   "metadata": {},
   "outputs": [],
   "source": [
    "a.append(\"nothing want\") # add on both the list"
   ]
  },
  {
   "cell_type": "code",
   "execution_count": 95,
   "id": "db605ad0-1701-41a5-aea1-70435495b456",
   "metadata": {},
   "outputs": [
    {
     "name": "stdout",
     "output_type": "stream",
     "text": [
      "['books', 'perfume', 'beauty product', 'medicines', 'Home remedies', 'clothes', 'anything you want', 'nothing want']\n"
     ]
    }
   ],
   "source": [
    "print(a) "
   ]
  },
  {
   "cell_type": "code",
   "execution_count": 97,
   "id": "2de866d0-8b8c-4538-b02e-9df0db0ca5af",
   "metadata": {},
   "outputs": [
    {
     "name": "stdout",
     "output_type": "stream",
     "text": [
      "['books', 'perfume', 'beauty product', 'medicines', 'Home remedies', 'clothes', 'anything you want', 'nothing want']\n"
     ]
    }
   ],
   "source": [
    "print(shopping_list)"
   ]
  },
  {
   "cell_type": "code",
   "execution_count": 99,
   "id": "661cefdf-d7a6-4bab-9010-84bcd37f5a4e",
   "metadata": {},
   "outputs": [
    {
     "data": {
      "text/plain": [
       "['books',\n",
       " 'perfume',\n",
       " 'beauty product',\n",
       " 'medicines',\n",
       " 'Home remedies',\n",
       " 'clothes',\n",
       " 'anything you want',\n",
       " 'nothing want']"
      ]
     },
     "execution_count": 99,
     "metadata": {},
     "output_type": "execute_result"
    }
   ],
   "source": [
    "# Deep copy>> It will not change the value of other list\n",
    "# in deep copy both are printing in different memory location only\n",
    "shopping_list"
   ]
  },
  {
   "cell_type": "code",
   "execution_count": 101,
   "id": "b7275bf4-170f-42a4-8250-001a6d498ce8",
   "metadata": {},
   "outputs": [],
   "source": [
    "b=shopping_list.copy()"
   ]
  },
  {
   "cell_type": "code",
   "execution_count": 103,
   "id": "d977babd-0874-441c-a0fb-f65ad8ff29f5",
   "metadata": {},
   "outputs": [
    {
     "name": "stdout",
     "output_type": "stream",
     "text": [
      "['books', 'perfume', 'beauty product', 'medicines', 'Home remedies', 'clothes', 'anything you want', 'nothing want']\n"
     ]
    }
   ],
   "source": [
    "print(b)"
   ]
  },
  {
   "cell_type": "code",
   "execution_count": 105,
   "id": "d49ce84f-4f93-4981-b70f-94b4338a580a",
   "metadata": {},
   "outputs": [
    {
     "name": "stdout",
     "output_type": "stream",
     "text": [
      "['books', 'perfume', 'beauty product', 'medicines', 'Home remedies', 'clothes', 'anything you want', 'nothing want']\n"
     ]
    }
   ],
   "source": [
    "print(shopping_list)"
   ]
  },
  {
   "cell_type": "code",
   "execution_count": 107,
   "id": "a91030ea-b239-4b9b-a0d0-b4e4fa1cb313",
   "metadata": {},
   "outputs": [],
   "source": [
    "shopping_list.append(\"Something interesting\")"
   ]
  },
  {
   "cell_type": "code",
   "execution_count": 109,
   "id": "2a107dac-eced-4d5f-a747-2a307abe0df1",
   "metadata": {},
   "outputs": [
    {
     "name": "stdout",
     "output_type": "stream",
     "text": [
      "['books', 'perfume', 'beauty product', 'medicines', 'Home remedies', 'clothes', 'anything you want', 'nothing want', 'Something interesting']\n"
     ]
    }
   ],
   "source": [
    "print(shopping_list)"
   ]
  },
  {
   "cell_type": "code",
   "execution_count": 111,
   "id": "f54497e6-241c-4268-a7e5-f8799bf14471",
   "metadata": {},
   "outputs": [
    {
     "name": "stdout",
     "output_type": "stream",
     "text": [
      "['books', 'perfume', 'beauty product', 'medicines', 'Home remedies', 'clothes', 'anything you want', 'nothing want']\n"
     ]
    }
   ],
   "source": [
    "print(b) # in deep copy only fst time copy are possible"
   ]
  },
  {
   "cell_type": "code",
   "execution_count": 139,
   "id": "a99f29a3-1bcf-4724-ba6d-1a65418cdfa6",
   "metadata": {},
   "outputs": [
    {
     "data": {
      "text/plain": [
       "['Ram', 'Shyam', 'Arun', 'varun', 'Rahul', 'kiran']"
      ]
     },
     "execution_count": 139,
     "metadata": {},
     "output_type": "execute_result"
    }
   ],
   "source": [
    "# with the help of del oeperator we delete the variable in list\n",
    "student = [\"Ram\", \"Shyam\", \"Arun\", \"varun\", \"Rahul\", \"kiran\"]\n",
    "student"
   ]
  },
  {
   "cell_type": "code",
   "execution_count": 141,
   "id": "4f4b1905-4eea-43f8-a218-9e82748a1a33",
   "metadata": {},
   "outputs": [
    {
     "data": {
      "text/plain": [
       "['Ram', 'Shyam', 'Arun', 'varun', 'Rahul', 'kiran']"
      ]
     },
     "execution_count": 141,
     "metadata": {},
     "output_type": "execute_result"
    }
   ],
   "source": [
    "student"
   ]
  },
  {
   "cell_type": "code",
   "execution_count": 23,
   "id": "04862aaa-b580-45b1-9f48-20e5a841c4b6",
   "metadata": {},
   "outputs": [
    {
     "ename": "NameError",
     "evalue": "name 'student' is not defined",
     "output_type": "error",
     "traceback": [
      "\u001b[1;31m---------------------------------------------------------------------------\u001b[0m",
      "\u001b[1;31mNameError\u001b[0m                                 Traceback (most recent call last)",
      "Cell \u001b[1;32mIn[23], line 2\u001b[0m\n\u001b[0;32m      1\u001b[0m \u001b[38;5;28;01mdel\u001b[39;00m student\n\u001b[1;32m----> 2\u001b[0m \u001b[43mstudent\u001b[49m\n",
      "\u001b[1;31mNameError\u001b[0m: name 'student' is not defined"
     ]
    }
   ],
   "source": [
    "del student\n",
    "student"
   ]
  },
  {
   "cell_type": "code",
   "execution_count": 160,
   "id": "9b2a5236-d00b-4b26-8cef-c77dfb96ef30",
   "metadata": {},
   "outputs": [],
   "source": [
    " b.clear() # empty the string"
   ]
  },
  {
   "cell_type": "code",
   "execution_count": 162,
   "id": "579d137e-b66b-4f4f-9d21-0965da50105f",
   "metadata": {},
   "outputs": [
    {
     "data": {
      "text/plain": [
       "[]"
      ]
     },
     "execution_count": 162,
     "metadata": {},
     "output_type": "execute_result"
    }
   ],
   "source": [
    "b"
   ]
  },
  {
   "cell_type": "raw",
   "id": "a3555053-ecb1-49e3-b7c3-922d4c0de23f",
   "metadata": {},
   "source": [
    "# remove the last element>> pop()\n",
    "# if we put the index number in th pop then it deletes the specific element .\n"
   ]
  },
  {
   "cell_type": "code",
   "execution_count": 83,
   "id": "84cc2b44-dc3d-4c8c-ba69-d56e79315c35",
   "metadata": {},
   "outputs": [],
   "source": [
    "student = [\"Ram\", \"Shyam\", \"Arun\", \"varun\", \"Rahul\", \"kiran\"]"
   ]
  },
  {
   "cell_type": "code",
   "execution_count": 5,
   "id": "63be6fd2-a757-4cea-9e08-2476df4a20e6",
   "metadata": {},
   "outputs": [
    {
     "name": "stdout",
     "output_type": "stream",
     "text": [
      "['Ram', 'Shyam', 'Arun', 'varun', 'Rahul', 'kiran']\n"
     ]
    }
   ],
   "source": [
    "print(student)"
   ]
  },
  {
   "cell_type": "code",
   "execution_count": 9,
   "id": "587fa4a1-d0e4-4abf-82d8-3676973b4419",
   "metadata": {},
   "outputs": [
    {
     "data": {
      "text/plain": [
       "'kiran'"
      ]
     },
     "execution_count": 9,
     "metadata": {},
     "output_type": "execute_result"
    }
   ],
   "source": [
    "student.pop() # it removes the last element"
   ]
  },
  {
   "cell_type": "code",
   "execution_count": 21,
   "id": "b1d90ab9-9507-48f1-b3fc-f346f3f2dda6",
   "metadata": {},
   "outputs": [
    {
     "data": {
      "text/plain": [
       "'Rahul'"
      ]
     },
     "execution_count": 21,
     "metadata": {},
     "output_type": "execute_result"
    }
   ],
   "source": [
    "student.pop()"
   ]
  },
  {
   "cell_type": "code",
   "execution_count": 49,
   "id": "de6794ca-3db3-4655-a513-06cc381c9e9b",
   "metadata": {},
   "outputs": [
    {
     "name": "stdout",
     "output_type": "stream",
     "text": [
      "[24, 40, 60, 80, 100]\n"
     ]
    }
   ],
   "source": [
    "# With the help of list comprehension we can modify the string\n",
    "prices = [12, 20, 30, 40, 50]\n",
    "double_price = []\n",
    "for i in prices:\n",
    "    double_price.append(i*2)\n",
    "print(double_price)    "
   ]
  },
  {
   "cell_type": "code",
   "execution_count": 53,
   "id": "2649d71a-250e-46a3-bc43-2f27c2b87612",
   "metadata": {},
   "outputs": [
    {
     "data": {
      "text/plain": [
       "[24, 40, 60, 80, 100]"
      ]
     },
     "execution_count": 53,
     "metadata": {},
     "output_type": "execute_result"
    }
   ],
   "source": [
    "double_price = [price * 2 for price in prices]\n",
    "double_price"
   ]
  },
  {
   "cell_type": "code",
   "execution_count": 69,
   "id": "043bece2-9143-4d25-91c5-2954cf849f77",
   "metadata": {},
   "outputs": [
    {
     "data": {
      "text/plain": [
       "'gyani@gmail'"
      ]
     },
     "execution_count": 69,
     "metadata": {},
     "output_type": "execute_result"
    }
   ],
   "source": [
    "# we can also split the given list\n",
    "str1 = \"gyani@gmail.com\"\n",
    "str1.split(\".\")[-2]"
   ]
  },
  {
   "cell_type": "code",
   "execution_count": 77,
   "id": "9b6118f8-ebe0-4eeb-b931-ac9fb1771493",
   "metadata": {},
   "outputs": [
    {
     "data": {
      "text/plain": [
       "['doc1', 'doc2', 'doc3', 'doc4']"
      ]
     },
     "execution_count": 77,
     "metadata": {},
     "output_type": "execute_result"
    }
   ],
   "source": [
    "file_name = [\"doc1.ppt\",\"doc2.pdf\",\"doc3.jpg\",\"doc4.py\"]\n",
    "[file.split(\".\")[0]for file in file_name]"
   ]
  },
  {
   "cell_type": "code",
   "execution_count": 107,
   "id": "e1c39fd6-5595-44fd-aae9-f0e3e651cd7a",
   "metadata": {
    "editable": true,
    "slideshow": {
     "slide_type": ""
    },
    "tags": []
   },
   "outputs": [],
   "source": [
    "students =['Ram', 'Shyam', 'Arun', 'varun', 'Rahul', 'kiran']"
   ]
  },
  {
   "cell_type": "code",
   "execution_count": 109,
   "id": "ab4ee284-350e-46c0-a5ff-00a357de90cd",
   "metadata": {},
   "outputs": [
    {
     "data": {
      "text/plain": [
       "['Ram', 'Shyam', 'Arun', 'varun', 'Rahul', 'kiran']"
      ]
     },
     "execution_count": 109,
     "metadata": {},
     "output_type": "execute_result"
    }
   ],
   "source": [
    "students"
   ]
  },
  {
   "cell_type": "code",
   "execution_count": 111,
   "id": "fad31d12-3ff5-4d9c-8609-4efb6cba4ddb",
   "metadata": {
    "editable": true,
    "slideshow": {
     "slide_type": ""
    },
    "tags": []
   },
   "outputs": [
    {
     "data": {
      "text/plain": [
       "['Ram', 'Shyam', 'Arun', 'Varun', 'Rahul', 'Kiran']"
      ]
     },
     "execution_count": 111,
     "metadata": {},
     "output_type": "execute_result"
    }
   ],
   "source": [
    "[student.capitalize()for student in students]"
   ]
  },
  {
   "cell_type": "code",
   "execution_count": 99,
   "id": "c9f03ff7-347b-441a-982c-b599f90074e2",
   "metadata": {},
   "outputs": [
    {
     "data": {
      "text/plain": [
       "'Shanu'"
      ]
     },
     "execution_count": 99,
     "metadata": {},
     "output_type": "execute_result"
    }
   ],
   "source": [
    "s = \"shanu\"\n",
    "s.capitalize()"
   ]
  },
  {
   "cell_type": "code",
   "execution_count": 101,
   "id": "a643bfe3-fa01-4f29-bb7f-af4a3ebcc65d",
   "metadata": {},
   "outputs": [
    {
     "data": {
      "text/plain": [
       "['Ajay', 'Bijay', 'Sanjay']"
      ]
     },
     "execution_count": 101,
     "metadata": {},
     "output_type": "execute_result"
    }
   ],
   "source": [
    "names = [\"AJAY\", \"bijay\", \"sanjay\"]\n",
    "[name.capitalize() for name in names]"
   ]
  },
  {
   "cell_type": "code",
   "execution_count": null,
   "id": "1ec5e30d-ae90-4fc6-b17a-b644efc100e2",
   "metadata": {},
   "outputs": [],
   "source": []
  }
 ],
 "metadata": {
  "kernelspec": {
   "display_name": "Python 3 (ipykernel)",
   "language": "python",
   "name": "python3"
  },
  "language_info": {
   "codemirror_mode": {
    "name": "ipython",
    "version": 3
   },
   "file_extension": ".py",
   "mimetype": "text/x-python",
   "name": "python",
   "nbconvert_exporter": "python",
   "pygments_lexer": "ipython3",
   "version": "3.12.4"
  }
 },
 "nbformat": 4,
 "nbformat_minor": 5
}
