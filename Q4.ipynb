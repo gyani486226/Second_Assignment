{
 "cells": [
  {
   "cell_type": "raw",
   "id": "d836b011-5e0d-40f3-8175-f924279e9d49",
   "metadata": {},
   "source": [
    "Q4.  Compare and contrast tuples and lists with examples"
   ]
  },
  {
   "cell_type": "raw",
   "id": "0da14a0e-729c-4a43-aa28-5b8a4ad5655d",
   "metadata": {},
   "source": [
    "TUPLES\n",
    "1.Tuple is a type of data structure  which contain any type of data like number, string, float, complex no., boolean etc means it is a hetrogeneous.\n",
    "2. Tuples are ordered collection of data means indexing are possible like string and element\n",
    "3. Tuples are immutable>> we cannot change the elements of tupple after creation.\n",
    "4. Tuples are best suited for storing data that is write-protected (you can read the data but cannot write to it).\n",
    "5. represent for using this parenthese ()\n",
    "6.Tuples are lists which cannot be edited. \n",
    "7. Tuples have fixed size,\n",
    "8 Due to immutable difference, tuples are easier on memory and processor in comparison to lists."
   ]
  },
  {
   "cell_type": "raw",
   "id": "3c45ef5a-39fb-4866-8e09-83479e1397c0",
   "metadata": {},
   "source": [
    "LISTS\n",
    "1. List is also a type of data structure which contain any type of data like ike number, string, float, complex no.,\n",
    "boolean etc means it is a hetrogeneous.\n",
    "2. Lists are also ordered collection of data means indexing are possible\n",
    "3. List are mutable>> we can change the element of lists with the help of indexing and some inbuilt function.\n",
    "4. Represent for using square bracket[]\n",
    "5 List are used for dynamic collections that may need modification.\n",
    "\n",
    "So, Tuple is similar to list but differs in two things.\n",
    "First, a tupple is sequence of immutable objects\n",
    "Second, tuples use parantheses to define its elements whereas lists use square brackets."
   ]
  },
  {
   "cell_type": "code",
   "execution_count": 17,
   "id": "b4f67920-ef62-45c5-8e01-6be4a860438a",
   "metadata": {},
   "outputs": [
    {
     "data": {
      "text/plain": [
       "[1, 2, 3, 4, 'shyam', 'True', 2]"
      ]
     },
     "execution_count": 17,
     "metadata": {},
     "output_type": "execute_result"
    }
   ],
   "source": [
    "#  list sre orederd collection of data\n",
    "t = [1,2, 3, 4, \"shyam\", \"True\", 2]\n",
    "t"
   ]
  },
  {
   "cell_type": "code",
   "execution_count": 19,
   "id": "31ad79cc-b19d-4d61-814d-8249e6471b7b",
   "metadata": {},
   "outputs": [
    {
     "data": {
      "text/plain": [
       "1"
      ]
     },
     "execution_count": 19,
     "metadata": {},
     "output_type": "execute_result"
    }
   ],
   "source": [
    " t[0] # acessing the elements"
   ]
  },
  {
   "cell_type": "code",
   "execution_count": 21,
   "id": "be5bd44c-37a6-4a96-91de-b0173f609ee3",
   "metadata": {},
   "outputs": [
    {
     "data": {
      "text/plain": [
       "2"
      ]
     },
     "execution_count": 21,
     "metadata": {},
     "output_type": "execute_result"
    }
   ],
   "source": [
    "t[-1]"
   ]
  },
  {
   "cell_type": "code",
   "execution_count": 29,
   "id": "66957884-0988-436c-a48b-0085dbfdd9af",
   "metadata": {},
   "outputs": [],
   "source": [
    "t[0]= 5"
   ]
  },
  {
   "cell_type": "code",
   "execution_count": 31,
   "id": "b6e76f67-a073-4a00-a204-a5b47ef1f749",
   "metadata": {},
   "outputs": [
    {
     "data": {
      "text/plain": [
       "[5, 2, 3, 4, 'shyam', 'True', 2]"
      ]
     },
     "execution_count": 31,
     "metadata": {},
     "output_type": "execute_result"
    }
   ],
   "source": [
    "t"
   ]
  },
  {
   "cell_type": "code",
   "execution_count": 33,
   "id": "d72d3124-f7cc-4011-9c1c-26d43e70fd8c",
   "metadata": {},
   "outputs": [],
   "source": [
    "t [1] = \"Shyam\" # changing the values with the help of indexing"
   ]
  },
  {
   "cell_type": "code",
   "execution_count": 35,
   "id": "97e806dc-f9ba-49df-97af-24b6116d9734",
   "metadata": {},
   "outputs": [
    {
     "data": {
      "text/plain": [
       "[5, 'Shyam', 3, 4, 'shyam', 'True', 2]"
      ]
     },
     "execution_count": 35,
     "metadata": {},
     "output_type": "execute_result"
    }
   ],
   "source": [
    "t"
   ]
  },
  {
   "cell_type": "code",
   "execution_count": null,
   "id": "8f51da01-a906-4d80-b0fd-25f32b0ac8cc",
   "metadata": {},
   "outputs": [],
   "source": [
    "# List are also ordered collection of data\n",
    "l = t = [1,2, 3, 4, \"shyam\", \"True\", 2]\n",
    "t"
   ]
  }
 ],
 "metadata": {
  "kernelspec": {
   "display_name": "Python 3 (ipykernel)",
   "language": "python",
   "name": "python3"
  },
  "language_info": {
   "codemirror_mode": {
    "name": "ipython",
    "version": 3
   },
   "file_extension": ".py",
   "mimetype": "text/x-python",
   "name": "python",
   "nbconvert_exporter": "python",
   "pygments_lexer": "ipython3",
   "version": "3.12.4"
  }
 },
 "nbformat": 4,
 "nbformat_minor": 5
}
