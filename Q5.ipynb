{
 "cells": [
  {
   "cell_type": "raw",
   "id": "769b695d-eea6-498b-a7b0-972aba32f9ab",
   "metadata": {},
   "source": [
    "Q5 Describe the key features of sets and provide examples of their use."
   ]
  },
  {
   "cell_type": "raw",
   "id": "03c8373c-fa27-4309-9d0b-53189749b265",
   "metadata": {},
   "source": [
    "SETS\n",
    "Set is another data structure supported by python. Basically, sets are same as lists but with a difference is\n",
    "1. Stes are lists with no duplicate entries means unique,\n",
    "2. It is an unordered collection of items means indexing is not possible.\n",
    "3. Set is mutable we can add or remove anything in set.\n",
    "4. A set is created by placing all the elements inside curly bracets {}, separated by comma."
   ]
  },
  {
   "cell_type": "code",
   "execution_count": 13,
   "id": "a2a24fc9-32e4-4f5c-a9b7-b22f29861a84",
   "metadata": {},
   "outputs": [],
   "source": [
    "s = {1,2,3,1,1,\"Ajay\", \"Ajay\", \"Vijay\", \"Ram\", \"Ram\", \"Hello\", \"Hello\"} # it gives the unique value "
   ]
  },
  {
   "cell_type": "code",
   "execution_count": 17,
   "id": "e1f1099a-8ca6-4009-b825-6fa441c9ab28",
   "metadata": {},
   "outputs": [
    {
     "name": "stdout",
     "output_type": "stream",
     "text": [
      "{1, 2, 3, 'Hello', 'Ram', 'Ajay', 'Vijay'}\n"
     ]
    }
   ],
   "source": [
    "print(s)"
   ]
  },
  {
   "cell_type": "code",
   "execution_count": 19,
   "id": "baef2da2-af54-4bfd-a7fa-6317c9d2d388",
   "metadata": {},
   "outputs": [
    {
     "data": {
      "text/plain": [
       "set"
      ]
     },
     "execution_count": 19,
     "metadata": {},
     "output_type": "execute_result"
    }
   ],
   "source": [
    "type(s)"
   ]
  },
  {
   "cell_type": "markdown",
   "id": "416d4a64-575f-413f-b6f8-18207e04de68",
   "metadata": {},
   "source": [
    "# Use cases\n",
    "Mom and Dad have given me a list to buy something whhich contain some same or repetitive  elements then first this list is converted to sets and after that buy."
   ]
  },
  {
   "cell_type": "code",
   "execution_count": 22,
   "id": "24540310-357c-453c-a630-e47f130ca281",
   "metadata": {},
   "outputs": [],
   "source": [
    "lists = [\"clothes\", \"pen\", \"pencil\", \"pen\", \"medicine\", \"clothes\", \"groccery\", \"chocolates\", \"medicine\"]\n"
   ]
  },
  {
   "cell_type": "code",
   "execution_count": 24,
   "id": "b6ac0e88-52d7-454d-8f98-86ee3562dd32",
   "metadata": {},
   "outputs": [
    {
     "data": {
      "text/plain": [
       "list"
      ]
     },
     "execution_count": 24,
     "metadata": {},
     "output_type": "execute_result"
    }
   ],
   "source": [
    "type(lists)"
   ]
  },
  {
   "cell_type": "code",
   "execution_count": 26,
   "id": "ed6bf3c0-08a9-4115-a5bc-f022ffb66b2b",
   "metadata": {},
   "outputs": [],
   "source": [
    "list_unique = set(lists)"
   ]
  },
  {
   "cell_type": "code",
   "execution_count": 28,
   "id": "66cf58a2-16a6-47f4-9a9a-e6196d8aa499",
   "metadata": {},
   "outputs": [
    {
     "data": {
      "text/plain": [
       "{'chocolates', 'clothes', 'groccery', 'medicine', 'pen', 'pencil'}"
      ]
     },
     "execution_count": 28,
     "metadata": {},
     "output_type": "execute_result"
    }
   ],
   "source": [
    "list_unique"
   ]
  },
  {
   "cell_type": "code",
   "execution_count": null,
   "id": "4fb1943c-54e8-44ff-920a-6752dec50dfb",
   "metadata": {},
   "outputs": [],
   "source": []
  }
 ],
 "metadata": {
  "kernelspec": {
   "display_name": "Python 3 (ipykernel)",
   "language": "python",
   "name": "python3"
  },
  "language_info": {
   "codemirror_mode": {
    "name": "ipython",
    "version": 3
   },
   "file_extension": ".py",
   "mimetype": "text/x-python",
   "name": "python",
   "nbconvert_exporter": "python",
   "pygments_lexer": "ipython3",
   "version": "3.12.4"
  }
 },
 "nbformat": 4,
 "nbformat_minor": 5
}
