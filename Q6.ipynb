{
 "cells": [
  {
   "cell_type": "raw",
   "id": "1e5557c9-c0af-496b-b7e3-70730c745f04",
   "metadata": {},
   "source": [
    "Q7 Discuss the use cases of tuples and sets in Python programming.\n",
    "\n",
    "1. Sets are used to  store unordered values and do not have index.\n",
    "2. Sets give the unique output.\n",
    "3. Sets supports set operation like union, intersection and difference.\n",
    "4. Sets have not fixed size.\n",
    "5. Sets are mutable. \n",
    "6. Sets is a unique element.\n",
    "7. In real-world applications, tuples are extremely useful for representing records or structures as we call in other programming language.\n",
    "8. Tuples store information about a student can have elements like roll_no, name, course etc.\n",
    "9. Tuples are immutable>> we cannot change the elements of tupple after creation.\n",
    "11. Tuples are best suited for storing data that is write-protected (you can read the data but cannot write to it).\n",
    "12. Tuples are used when you need to store a fixed collection of related data that should not be modified.\n",
    "13. Tuples can be used as a keys in dictionaries,\n",
    "14. Tuples have fixed size but sets not."
   ]
  }
 ],
 "metadata": {
  "kernelspec": {
   "display_name": "Python 3 (ipykernel)",
   "language": "python",
   "name": "python3"
  },
  "language_info": {
   "codemirror_mode": {
    "name": "ipython",
    "version": 3
   },
   "file_extension": ".py",
   "mimetype": "text/x-python",
   "name": "python",
   "nbconvert_exporter": "python",
   "pygments_lexer": "ipython3",
   "version": "3.12.4"
  }
 },
 "nbformat": 4,
 "nbformat_minor": 5
}
