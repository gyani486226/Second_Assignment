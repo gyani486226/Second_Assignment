{
 "cells": [
  {
   "cell_type": "raw",
   "id": "f3429801-391c-49db-b00a-cfa7164193f9",
   "metadata": {},
   "source": [
    "Q7 Describe how to add, modify, and delete items in a dictionary with examples.\n",
    "1. Dictionary is data structure in which we store values as a pair of key and value.\n",
    "2. Each key is separated from its value by a colon (:), and consecutive items are separated by commas.\n",
    "3. The entire item are closed in curly brackets({})."
   ]
  },
  {
   "cell_type": "code",
   "execution_count": 98,
   "id": "96ff4508-5f90-4763-9d9b-753e5f3a5456",
   "metadata": {},
   "outputs": [],
   "source": [
    "document = {\"Name\":\"Gyanendra singh\", \"Roll_no\":\"0203\",\"course\":\"Btech\",\"Duration\":\"4 year\",}"
   ]
  },
  {
   "cell_type": "code",
   "execution_count": 100,
   "id": "cf918c35-f8eb-4b86-9413-b26703d8215c",
   "metadata": {},
   "outputs": [
    {
     "data": {
      "text/plain": [
       "dict"
      ]
     },
     "execution_count": 100,
     "metadata": {},
     "output_type": "execute_result"
    }
   ],
   "source": [
    "type(document)"
   ]
  },
  {
   "cell_type": "code",
   "execution_count": 102,
   "id": "9b89758a-5bf1-4b85-bf33-bcb723d6a257",
   "metadata": {},
   "outputs": [],
   "source": [
    "# modify the value with the help of key of dictionary\n",
    "document[\"Name\"] = \"Shanu\""
   ]
  },
  {
   "cell_type": "code",
   "execution_count": 104,
   "id": "6ca7ae7c-e310-4ec3-86f4-8f9e7f8ed955",
   "metadata": {},
   "outputs": [
    {
     "name": "stdout",
     "output_type": "stream",
     "text": [
      "{'Name': 'Shanu', 'Roll_no': '0203', 'course': 'Btech', 'Duration': '4 year'}\n"
     ]
    }
   ],
   "source": [
    "print(document)"
   ]
  },
  {
   "cell_type": "code",
   "execution_count": 106,
   "id": "ce3542e3-742a-4b89-80ac-79583f631137",
   "metadata": {},
   "outputs": [
    {
     "data": {
      "text/plain": [
       "'Shanu'"
      ]
     },
     "execution_count": 106,
     "metadata": {},
     "output_type": "execute_result"
    }
   ],
   "source": [
    "# To acess values in a dictionary, square brackets are used along with the key to obtain its value.\n",
    "document[\"Name\"]"
   ]
  },
  {
   "cell_type": "code",
   "execution_count": 19,
   "id": "8fcd9301-47f2-4120-8348-9e3fe9c00641",
   "metadata": {},
   "outputs": [
    {
     "data": {
      "text/plain": [
       "'0203'"
      ]
     },
     "execution_count": 19,
     "metadata": {},
     "output_type": "execute_result"
    }
   ],
   "source": [
    "document[\"Roll_no\"]"
   ]
  },
  {
   "cell_type": "code",
   "execution_count": 108,
   "id": "caa8a31f-9d98-4f6b-be5e-6ba05c5dfdde",
   "metadata": {},
   "outputs": [
    {
     "name": "stdout",
     "output_type": "stream",
     "text": [
      "{'Name': 'Shanu', 'Roll_no': '0203', 'course': 'Btech', 'Duration': '4 year'}\n"
     ]
    }
   ],
   "source": [
    "print(document)"
   ]
  },
  {
   "cell_type": "code",
   "execution_count": 31,
   "id": "ef06d067-1ae6-418e-b89c-cdbec6bbacbe",
   "metadata": {},
   "outputs": [],
   "source": [
    "# I also want to add gmail\n",
    "document[\"gmail\"] = \"gyani487@gmail.com\" # adding the gmail in document"
   ]
  },
  {
   "cell_type": "code",
   "execution_count": 33,
   "id": "dd1200c5-cc83-4b90-a702-8917fa3ff7b8",
   "metadata": {},
   "outputs": [
    {
     "name": "stdout",
     "output_type": "stream",
     "text": [
      "{'Name': 'Gyanendra singh', 'Roll_no': '0203', 'course': 'Btech', 'Duration': '4 year', 'gmail': 'gyani487@gmail.com'}\n"
     ]
    }
   ],
   "source": [
    "print(document)"
   ]
  },
  {
   "cell_type": "code",
   "execution_count": 35,
   "id": "4ca8911b-9d95-4cf6-9fd4-2aa94c3d1de3",
   "metadata": {},
   "outputs": [],
   "source": [
    "d = {\"name\":[\"sanjay\",\"vijay\",\"ram\",\"shayam\"], \"age\":[34,45,56,23]}"
   ]
  },
  {
   "cell_type": "code",
   "execution_count": 37,
   "id": "0686a5bc-c67c-4fff-aaf8-10c4da9b61d6",
   "metadata": {},
   "outputs": [
    {
     "data": {
      "text/plain": [
       "{'name': ['sanjay', 'vijay', 'ram', 'shayam'], 'age': [34, 45, 56, 23]}"
      ]
     },
     "execution_count": 37,
     "metadata": {},
     "output_type": "execute_result"
    }
   ],
   "source": [
    "d"
   ]
  },
  {
   "cell_type": "code",
   "execution_count": 39,
   "id": "b85c2a8e-63d4-4a48-bd05-62d2055b578f",
   "metadata": {},
   "outputs": [],
   "source": [
    "d = {\"name\":[\"sanjay\",\"vijay\",\"ram\",\"shayam\"], \"age\":[34,45,56,23],\"name\":\"shanu\",\"age\":24} #> if more than one same key value then the last one \n",
    "# is preffered"
   ]
  },
  {
   "cell_type": "code",
   "execution_count": 41,
   "id": "5f127cc2-f2a5-423e-90e3-e826a48b3829",
   "metadata": {},
   "outputs": [
    {
     "data": {
      "text/plain": [
       "{'name': 'shanu', 'age': 24}"
      ]
     },
     "execution_count": 41,
     "metadata": {},
     "output_type": "execute_result"
    }
   ],
   "source": [
    "d"
   ]
  },
  {
   "cell_type": "code",
   "execution_count": 43,
   "id": "684bead3-f5bb-4600-a8d7-dc45724b05f1",
   "metadata": {},
   "outputs": [],
   "source": [
    "# deleting the data of dictionary \n",
    "del d"
   ]
  },
  {
   "cell_type": "code",
   "execution_count": 45,
   "id": "8527363b-2bb9-4b9a-b00b-314bc7afb093",
   "metadata": {},
   "outputs": [
    {
     "ename": "NameError",
     "evalue": "name 'd' is not defined",
     "output_type": "error",
     "traceback": [
      "\u001b[1;31m---------------------------------------------------------------------------\u001b[0m",
      "\u001b[1;31mNameError\u001b[0m                                 Traceback (most recent call last)",
      "Cell \u001b[1;32mIn[45], line 1\u001b[0m\n\u001b[1;32m----> 1\u001b[0m \u001b[43md\u001b[49m\n",
      "\u001b[1;31mNameError\u001b[0m: name 'd' is not defined"
     ]
    }
   ],
   "source": [
    "d"
   ]
  },
  {
   "cell_type": "code",
   "execution_count": 47,
   "id": "2698f9ca-94e9-4eaf-a8cb-5fcf3a787c17",
   "metadata": {},
   "outputs": [],
   "source": [
    "document = {\"Name\":\"Gyanendra singh\", \"Roll_no\":\"0203\",\"course\":\"Btech\",\"Duration\":\"4 year\",}"
   ]
  },
  {
   "cell_type": "code",
   "execution_count": 49,
   "id": "279e6d49-403a-4560-9db3-541352a56ecb",
   "metadata": {},
   "outputs": [
    {
     "name": "stdout",
     "output_type": "stream",
     "text": [
      "{'Name': 'Gyanendra singh', 'Roll_no': '0203', 'course': 'Btech', 'Duration': '4 year'}\n"
     ]
    }
   ],
   "source": [
    "print(document)"
   ]
  },
  {
   "cell_type": "code",
   "execution_count": 53,
   "id": "07c1ff8d-87f1-4667-bdaf-171c6e4ae034",
   "metadata": {},
   "outputs": [
    {
     "data": {
      "text/plain": [
       "{'Name': 'Gyanendra singh',\n",
       " 'Roll_no': '0203',\n",
       " 'course': 'Btech',\n",
       " 'Duration': '4 year'}"
      ]
     },
     "execution_count": 53,
     "metadata": {},
     "output_type": "execute_result"
    }
   ],
   "source": [
    "# emptying the dictionary we use [d.clear()]\n",
    "document\n"
   ]
  },
  {
   "cell_type": "code",
   "execution_count": 57,
   "id": "edc7dfe8-b25b-4339-b397-6adfbf0dc3ab",
   "metadata": {},
   "outputs": [],
   "source": [
    "document.clear()"
   ]
  },
  {
   "cell_type": "code",
   "execution_count": 59,
   "id": "d9be5b43-e058-48eb-9678-b4edb6ec20db",
   "metadata": {},
   "outputs": [
    {
     "data": {
      "text/plain": [
       "{}"
      ]
     },
     "execution_count": 59,
     "metadata": {},
     "output_type": "execute_result"
    }
   ],
   "source": [
    "document"
   ]
  },
  {
   "cell_type": "code",
   "execution_count": 65,
   "id": "b76fe121-dc50-4cfc-8dc7-9b95643fb7b2",
   "metadata": {},
   "outputs": [],
   "source": [
    "document = {\"Name\":\"Gyanendra singh\", \"Roll_no\":\"0203\",\"course\":\"Btech\",\"Duration\":\"4 year\",}"
   ]
  },
  {
   "cell_type": "code",
   "execution_count": 67,
   "id": "6f2d4235-b9aa-4952-a746-adf8c0098697",
   "metadata": {},
   "outputs": [
    {
     "data": {
      "text/plain": [
       "{'Name': 'Gyanendra singh',\n",
       " 'Roll_no': '0203',\n",
       " 'course': 'Btech',\n",
       " 'Duration': '4 year'}"
      ]
     },
     "execution_count": 67,
     "metadata": {},
     "output_type": "execute_result"
    }
   ],
   "source": [
    "# with the help of pop operator we can deletate the specific key value for the use of specific key\n",
    "document"
   ]
  },
  {
   "cell_type": "code",
   "execution_count": 69,
   "id": "d48946d2-0f13-4e18-93ea-783a6301d632",
   "metadata": {},
   "outputs": [
    {
     "data": {
      "text/plain": [
       "'Btech'"
      ]
     },
     "execution_count": 69,
     "metadata": {},
     "output_type": "execute_result"
    }
   ],
   "source": [
    "document.pop(\"course\")"
   ]
  },
  {
   "cell_type": "code",
   "execution_count": 71,
   "id": "072ca02d-ea90-4163-8571-d9455eb53ea0",
   "metadata": {},
   "outputs": [
    {
     "data": {
      "text/plain": [
       "{'Name': 'Gyanendra singh', 'Roll_no': '0203', 'Duration': '4 year'}"
      ]
     },
     "execution_count": 71,
     "metadata": {},
     "output_type": "execute_result"
    }
   ],
   "source": [
    "document"
   ]
  },
  {
   "cell_type": "code",
   "execution_count": 88,
   "id": "cd857b47-a20c-40bc-86ac-bdc107355bea",
   "metadata": {},
   "outputs": [],
   "source": [
    "# with h=the help of update operator we can add other dictionary on the original dictionary\n",
    "d = {\"course\":\"Data science\"}\n",
    "d1 ={\"Course offered\":\"physics wallah\"}"
   ]
  },
  {
   "cell_type": "code",
   "execution_count": 90,
   "id": "d317297f-d09f-45d2-85e2-5fa1b44cbbd6",
   "metadata": {},
   "outputs": [
    {
     "data": {
      "text/plain": [
       "{'course': 'Data science'}"
      ]
     },
     "execution_count": 90,
     "metadata": {},
     "output_type": "execute_result"
    }
   ],
   "source": [
    "d"
   ]
  },
  {
   "cell_type": "code",
   "execution_count": 92,
   "id": "0046f614-babe-4c1f-a2ea-8ec95cd948a3",
   "metadata": {},
   "outputs": [
    {
     "data": {
      "text/plain": [
       "{'Course offered': 'physics wallah'}"
      ]
     },
     "execution_count": 92,
     "metadata": {},
     "output_type": "execute_result"
    }
   ],
   "source": [
    "d1"
   ]
  },
  {
   "cell_type": "code",
   "execution_count": 94,
   "id": "e3082bf4-416f-4298-817f-b2553d277560",
   "metadata": {},
   "outputs": [],
   "source": [
    "d.update(d1)"
   ]
  },
  {
   "cell_type": "code",
   "execution_count": 86,
   "id": "44da68bd-af2a-4bf2-ae32-304b731676eb",
   "metadata": {},
   "outputs": [
    {
     "data": {
      "text/plain": [
       "{'course': 'Data science', 'Course offerd': 'physics wallah'}"
      ]
     },
     "execution_count": 86,
     "metadata": {},
     "output_type": "execute_result"
    }
   ],
   "source": [
    "d"
   ]
  },
  {
   "cell_type": "code",
   "execution_count": 96,
   "id": "fa17519a-cd27-4043-8755-92bf552038ba",
   "metadata": {},
   "outputs": [
    {
     "data": {
      "text/plain": [
       "2"
      ]
     },
     "execution_count": 96,
     "metadata": {},
     "output_type": "execute_result"
    }
   ],
   "source": [
    "len(d)"
   ]
  },
  {
   "cell_type": "code",
   "execution_count": 124,
   "id": "e1ab17dc-97ab-4e38-a007-ef14314355e0",
   "metadata": {},
   "outputs": [
    {
     "name": "stdout",
     "output_type": "stream",
     "text": [
      "('Arjun', 34)\n",
      "('vijay', 45)\n",
      "('Ram', 50)\n"
     ]
    }
   ],
   "source": [
    "# we also modify the data with the help of dictionary comprehension and zip finction\n",
    "\n",
    "# dictionary comprehension \n",
    "# zip function >>it acess the value together\n",
    "students = [\"Arjun\", \"vijay\",\"Ram\"]\n",
    "marks = [34,45,50]\n",
    "for i in zip (students, marks):\n",
    "    print(i)\n"
   ]
  },
  {
   "cell_type": "code",
   "execution_count": 128,
   "id": "31d1e754-085d-4390-b7cb-ba9d74e59c16",
   "metadata": {},
   "outputs": [
    {
     "data": {
      "text/plain": [
       "{'Arjun': [34, 45, 50], 'vijay': [34, 45, 50], 'Ram': [34, 45, 50]}"
      ]
     },
     "execution_count": 128,
     "metadata": {},
     "output_type": "execute_result"
    }
   ],
   "source": [
    "# dictionary comprehension method\n",
    "{student:marks for student, mark in zip(students , marks)}\n",
    "    "
   ]
  },
  {
   "cell_type": "code",
   "execution_count": null,
   "id": "5a781f8a-c28d-480c-b62f-9ed2d9626bf4",
   "metadata": {},
   "outputs": [],
   "source": []
  }
 ],
 "metadata": {
  "kernelspec": {
   "display_name": "Python 3 (ipykernel)",
   "language": "python",
   "name": "python3"
  },
  "language_info": {
   "codemirror_mode": {
    "name": "ipython",
    "version": 3
   },
   "file_extension": ".py",
   "mimetype": "text/x-python",
   "name": "python",
   "nbconvert_exporter": "python",
   "pygments_lexer": "ipython3",
   "version": "3.12.4"
  }
 },
 "nbformat": 4,
 "nbformat_minor": 5
}
