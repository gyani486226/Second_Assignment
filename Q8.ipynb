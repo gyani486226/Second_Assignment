{
 "cells": [
  {
   "cell_type": "raw",
   "id": "08f4f5fb-7c45-45fc-a706-27e31acd7dad",
   "metadata": {},
   "source": [
    "Q8 Discuss the importance of dictionary keys being immutable and provide examples.\n",
    "1. Keys must have unique values.\n",
    "2.Dictionary keys are case sensitive. Two keys with same name but in different case are not the same in python.\n",
    "3.Dictionary keys are immutable data type (like strings,numbers or tuples)]\n",
    "4. When a dictionary key is immutable, its value remains constant throughout its lifetime."
   ]
  },
  {
   "cell_type": "code",
   "execution_count": 6,
   "id": "8c0f955d-e96a-485d-a1d0-5cb61b3aa5cb",
   "metadata": {},
   "outputs": [],
   "source": [
    "# Dictionary with string keys\n",
    "d = {\"Name\":\"Shanu\", \"Age\":24}"
   ]
  },
  {
   "cell_type": "code",
   "execution_count": 8,
   "id": "ac56c0fb-2933-412b-a5e8-c5321d8cf2e8",
   "metadata": {},
   "outputs": [
    {
     "data": {
      "text/plain": [
       "{'Name': 'Shanu', 'Age': 24}"
      ]
     },
     "execution_count": 8,
     "metadata": {},
     "output_type": "execute_result"
    }
   ],
   "source": [
    "d"
   ]
  },
  {
   "cell_type": "code",
   "execution_count": 14,
   "id": "b170a127-ac9d-45af-922a-6b525db8d791",
   "metadata": {},
   "outputs": [],
   "source": [
    "# dictionary with numbers are key\n",
    "d1 = {121 : \"hlo\", 9 :\"birhday day\"}"
   ]
  },
  {
   "cell_type": "code",
   "execution_count": 20,
   "id": "eb5d0fbf-66b5-4222-9701-e53806da6f0b",
   "metadata": {},
   "outputs": [
    {
     "data": {
      "text/plain": [
       "{121: 'hlo', 9: 'birhday day'}"
      ]
     },
     "execution_count": 20,
     "metadata": {},
     "output_type": "execute_result"
    }
   ],
   "source": [
    "d1"
   ]
  },
  {
   "cell_type": "code",
   "execution_count": 28,
   "id": "f4211637-11f4-4e42-910e-7a52e151e4d0",
   "metadata": {},
   "outputs": [],
   "source": [
    "#Dictionary with tuples as a key\n",
    "d2 = {(\"Name\",\"a\",\"g\"): \"ram\"}"
   ]
  },
  {
   "cell_type": "code",
   "execution_count": 30,
   "id": "865ae7c1-7171-4ebb-bb74-d466f02078d4",
   "metadata": {},
   "outputs": [
    {
     "data": {
      "text/plain": [
       "{('Name', 'a', 'g'): 'ram'}"
      ]
     },
     "execution_count": 30,
     "metadata": {},
     "output_type": "execute_result"
    }
   ],
   "source": [
    "d2"
   ]
  },
  {
   "cell_type": "code",
   "execution_count": 32,
   "id": "f83aa74e-358a-4766-b985-ee81d996e49c",
   "metadata": {},
   "outputs": [],
   "source": [
    "d3 = {(1,2):\"x coordinate\",(5,6):\"y coordinate\"}"
   ]
  },
  {
   "cell_type": "code",
   "execution_count": 34,
   "id": "cc6f7f01-af2d-431f-bc40-96422fd722c4",
   "metadata": {},
   "outputs": [
    {
     "data": {
      "text/plain": [
       "{(1, 2): 'x coordinate', (5, 6): 'y coordinate'}"
      ]
     },
     "execution_count": 34,
     "metadata": {},
     "output_type": "execute_result"
    }
   ],
   "source": [
    "d3"
   ]
  },
  {
   "cell_type": "code",
   "execution_count": 36,
   "id": "fcf89d69-8647-42b6-9a60-33d3998dcea3",
   "metadata": {},
   "outputs": [
    {
     "ename": "TypeError",
     "evalue": "unhashable type: 'list'",
     "output_type": "error",
     "traceback": [
      "\u001b[1;31m---------------------------------------------------------------------------\u001b[0m",
      "\u001b[1;31mTypeError\u001b[0m                                 Traceback (most recent call last)",
      "Cell \u001b[1;32mIn[36], line 2\u001b[0m\n\u001b[0;32m      1\u001b[0m \u001b[38;5;66;03m# We cannot used key as a list\u001b[39;00m\n\u001b[1;32m----> 2\u001b[0m d4 \u001b[38;5;241m=\u001b[39m {[\u001b[38;5;124m\"\u001b[39m\u001b[38;5;124mName\u001b[39m\u001b[38;5;124m\"\u001b[39m,\u001b[38;5;124m\"\u001b[39m\u001b[38;5;124ma\u001b[39m\u001b[38;5;124m\"\u001b[39m,\u001b[38;5;124m\"\u001b[39m\u001b[38;5;124mg\u001b[39m\u001b[38;5;124m\"\u001b[39m]: \u001b[38;5;124m\"\u001b[39m\u001b[38;5;124mram\u001b[39m\u001b[38;5;124m\"\u001b[39m}\n",
      "\u001b[1;31mTypeError\u001b[0m: unhashable type: 'list'"
     ]
    }
   ],
   "source": [
    "# We cannot used key as a list because list are mutable\n",
    "d4 = {[\"Name\",\"a\",\"g\"]: \"ram\"}"
   ]
  },
  {
   "cell_type": "code",
   "execution_count": null,
   "id": "0c2b7dfb-1fe0-46c0-bf0c-8ba7cfad7e73",
   "metadata": {},
   "outputs": [],
   "source": []
  }
 ],
 "metadata": {
  "kernelspec": {
   "display_name": "Python 3 (ipykernel)",
   "language": "python",
   "name": "python3"
  },
  "language_info": {
   "codemirror_mode": {
    "name": "ipython",
    "version": 3
   },
   "file_extension": ".py",
   "mimetype": "text/x-python",
   "name": "python",
   "nbconvert_exporter": "python",
   "pygments_lexer": "ipython3",
   "version": "3.12.4"
  }
 },
 "nbformat": 4,
 "nbformat_minor": 5
}
